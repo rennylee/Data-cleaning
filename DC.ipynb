{
 "cells": [
  {
   "cell_type": "markdown",
   "metadata": {},
   "source": [
    "# CSI4124 A2 Data cleaning\n",
    "\n",
    "**Group 18**\n",
    "\n",
    "**Student Name: Yu-Chen Lee**\n",
    "\n",
    "**Student ID: 300240688**\n",
    "\n",
    "**Student Name: Kevin Yu** \n",
    "\n",
    "**Student ID: 300230560**"
   ]
  },
  {
   "cell_type": "markdown",
   "metadata": {},
   "source": [
    "# Dataset Description\n",
    "\n",
    "**Dataset 1:**\n",
    "\n",
    "Author: \n",
    "\n",
    "Purpose:\n",
    "\n",
    "Shape:\n",
    "\n",
    "Features:\n",
    "\n",
    "\n",
    "\n",
    "**Dataset 2**\n",
    "\n",
    "\n",
    "Author: \n",
    "\n",
    "Purpose:\n",
    "\n",
    "Shape:\n",
    "\n",
    "Features:\n"
   ]
  },
  {
   "cell_type": "markdown",
   "metadata": {},
   "source": [
    "# Loading Dataset"
   ]
  },
  {
   "cell_type": "code",
   "execution_count": null,
   "metadata": {},
   "outputs": [],
   "source": [
    "import pandas as pd\n",
    "import matplotlib.pyplot as plt\n",
    "import seaborn as sns\n",
    "\n",
    "dataset1_url = ''\n",
    "dataset2_url = ''\n",
    "\n",
    "ds1 = pd.read_csv(dataset1_url)\n",
    "ds2 = pd.read_csv(dataset2_url)"
   ]
  },
  {
   "cell_type": "markdown",
   "metadata": {},
   "source": [
    "# Clean data checker"
   ]
  },
  {
   "cell_type": "markdown",
   "metadata": {},
   "source": [
    "Data Type error\n",
    "\n",
    "Description:"
   ]
  },
  {
   "cell_type": "code",
   "execution_count": null,
   "metadata": {},
   "outputs": [],
   "source": []
  }
 ],
 "metadata": {
  "language_info": {
   "name": "python"
  }
 },
 "nbformat": 4,
 "nbformat_minor": 2
}
